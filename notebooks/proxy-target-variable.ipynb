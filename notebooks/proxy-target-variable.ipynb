{
 "cells": [
  {
   "cell_type": "code",
   "execution_count": 3,
   "id": "a4c42462",
   "metadata": {},
   "outputs": [
    {
     "ename": "KeyError",
     "evalue": "\"The column 'CustomerId' is missing from the DataFrame.\"",
     "output_type": "error",
     "traceback": [
      "\u001b[31m---------------------------------------------------------------------------\u001b[39m",
      "\u001b[31mKeyError\u001b[39m                                  Traceback (most recent call last)",
      "\u001b[36mCell\u001b[39m\u001b[36m \u001b[39m\u001b[32mIn[3]\u001b[39m\u001b[32m, line 40\u001b[39m\n\u001b[32m     38\u001b[39m \u001b[38;5;28;01mif\u001b[39;00m \u001b[34m__name__\u001b[39m == \u001b[33m\"\u001b[39m\u001b[33m__main__\u001b[39m\u001b[33m\"\u001b[39m:\n\u001b[32m     39\u001b[39m     df = pd.read_csv(\u001b[33m'\u001b[39m\u001b[33m../data/processed/processed_data.csv\u001b[39m\u001b[33m'\u001b[39m)\n\u001b[32m---> \u001b[39m\u001b[32m40\u001b[39m     proxy_df = \u001b[43mcreate_proxy_variable\u001b[49m\u001b[43m(\u001b[49m\u001b[43mdf\u001b[49m\u001b[43m)\u001b[49m\n\u001b[32m     41\u001b[39m     proxy_df.to_csv(\u001b[33m'\u001b[39m\u001b[33m../data/processed/proxy_data.csv\u001b[39m\u001b[33m'\u001b[39m, index=\u001b[38;5;28;01mFalse\u001b[39;00m)\n",
      "\u001b[36mCell\u001b[39m\u001b[36m \u001b[39m\u001b[32mIn[3]\u001b[39m\u001b[32m, line 9\u001b[39m, in \u001b[36mcreate_proxy_variable\u001b[39m\u001b[34m(df)\u001b[39m\n\u001b[32m      7\u001b[39m \u001b[38;5;28;01mfor\u001b[39;00m col \u001b[38;5;129;01min\u001b[39;00m required_columns:\n\u001b[32m      8\u001b[39m     \u001b[38;5;28;01mif\u001b[39;00m col \u001b[38;5;129;01mnot\u001b[39;00m \u001b[38;5;129;01min\u001b[39;00m df.columns:\n\u001b[32m----> \u001b[39m\u001b[32m9\u001b[39m         \u001b[38;5;28;01mraise\u001b[39;00m \u001b[38;5;167;01mKeyError\u001b[39;00m(\u001b[33mf\u001b[39m\u001b[33m\"\u001b[39m\u001b[33mThe column \u001b[39m\u001b[33m'\u001b[39m\u001b[38;5;132;01m{\u001b[39;00mcol\u001b[38;5;132;01m}\u001b[39;00m\u001b[33m'\u001b[39m\u001b[33m is missing from the DataFrame.\u001b[39m\u001b[33m\"\u001b[39m)\n\u001b[32m     11\u001b[39m \u001b[38;5;66;03m# Define a snapshot date\u001b[39;00m\n\u001b[32m     12\u001b[39m snapshot_date = pd.to_datetime(\u001b[33m\"\u001b[39m\u001b[33m2025-06-30\u001b[39m\u001b[33m\"\u001b[39m)\n",
      "\u001b[31mKeyError\u001b[39m: \"The column 'CustomerId' is missing from the DataFrame.\""
     ]
    }
   ],
   "source": [
    "from sklearn.cluster import KMeans\n",
    "import pandas as pd\n",
    "\n",
    "def create_proxy_variable(df):\n",
    "    # Check if necessary columns are available\n",
    "    required_columns = ['CustomerId', 'TransactionStartTime', 'Transaction_Count', 'Total_Transaction_Amount']\n",
    "    for col in required_columns:\n",
    "        if col not in df.columns:\n",
    "            raise KeyError(f\"The column '{col}' is missing from the DataFrame.\")\n",
    "\n",
    "    # Define a snapshot date\n",
    "    snapshot_date = pd.to_datetime(\"2025-06-30\")\n",
    "    \n",
    "    # Calculate Recency\n",
    "    df['Recency'] = (snapshot_date - pd.to_datetime(df['TransactionStartTime'])).dt.days\n",
    "\n",
    "    # Group by CustomerId and aggregate RFM metrics\n",
    "    rfm = df.groupby('CustomerId').agg({\n",
    "        'Recency': 'min',\n",
    "        'Transaction_Count': 'sum',\n",
    "        'Total_Transaction_Amount': 'sum'\n",
    "    }).reset_index()\n",
    "\n",
    "    # K-Means Clustering\n",
    "    kmeans = KMeans(n_clusters=3, random_state=42)\n",
    "    rfm_scaled = (rfm[['Recency', 'Transaction_Count', 'Total_Transaction_Amount']] - \n",
    "                  rfm[['Recency', 'Transaction_Count', 'Total_Transaction_Amount']].mean()) / \\\n",
    "                  rfm[['Recency', 'Transaction_Count', 'Total_Transaction_Amount']].std()\n",
    "    \n",
    "    rfm['Cluster'] = kmeans.fit_predict(rfm_scaled)\n",
    "\n",
    "    # Define High-Risk Label\n",
    "    high_risk_cluster = rfm['Cluster'].value_counts().idxmin()  # Assuming the least engaged cluster is high-risk\n",
    "    rfm['is_high_risk'] = (rfm['Cluster'] == high_risk_cluster).astype(int)\n",
    "\n",
    "    return rfm\n",
    "\n",
    "if __name__ == \"__main__\":\n",
    "    df = pd.read_csv('../data/processed/processed_data.csv')\n",
    "    proxy_df = create_proxy_variable(df)\n",
    "    proxy_df.to_csv('../data/processed/proxy_data.csv', index=False)"
   ]
  }
 ],
 "metadata": {
  "kernelspec": {
   "display_name": "venv",
   "language": "python",
   "name": "python3"
  },
  "language_info": {
   "codemirror_mode": {
    "name": "ipython",
    "version": 3
   },
   "file_extension": ".py",
   "mimetype": "text/x-python",
   "name": "python",
   "nbconvert_exporter": "python",
   "pygments_lexer": "ipython3",
   "version": "3.11.2"
  }
 },
 "nbformat": 4,
 "nbformat_minor": 5
}
