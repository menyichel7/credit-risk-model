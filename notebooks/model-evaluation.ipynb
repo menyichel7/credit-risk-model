{
 "cells": [
  {
   "cell_type": "code",
   "execution_count": null,
   "id": "cbe82415",
   "metadata": {},
   "outputs": [],
   "source": [
    "from sklearn.metrics import roc_auc_score\n",
    "import pandas as pd\n",
    "\n",
    "def evaluate_model(model, X_test, y_test):\n",
    "    # Get predicted probabilities\n",
    "    y_pred_prob = model.predict_proba(X_test)[:, 1]\n",
    "    auc_score = roc_auc_score(y_test, y_pred_prob)\n",
    "\n",
    "    print(f\"AUC Score: {auc_score}\")\n",
    "\n",
    "if __name__ == \"__main__\":\n",
    "    proxy_df = pd.read_csv('../data/processed/proxy_data.csv')\n",
    "    X = proxy_df.drop(['CustomerId', 'is_high_risk', 'Cluster'], axis=1)\n",
    "    y = proxy_df['is_high_risk']\n",
    "\n",
    "    # Split dataset again or reuse the previous split\n",
    "    X_train, X_test, y_train, y_test = train_test_split(X, y, test_size=0.2, random_state=42)\n",
    "\n",
    "    # Load the previously trained model\n",
    "    model = ... \n",
    "\n",
    "    evaluate_model(model, X_test, y_test)"
   ]
  }
 ],
 "metadata": {
  "language_info": {
   "name": "python"
  }
 },
 "nbformat": 4,
 "nbformat_minor": 5
}
