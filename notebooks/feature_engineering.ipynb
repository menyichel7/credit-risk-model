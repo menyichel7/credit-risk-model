{
 "cells": [
  {
   "cell_type": "code",
   "execution_count": 1,
   "id": "989e7c52",
   "metadata": {},
   "outputs": [],
   "source": [
    "import pandas as pd\n",
    "from sklearn.preprocessing import OneHotEncoder, StandardScaler\n",
    "from sklearn.pipeline import Pipeline\n",
    "from sklearn.compose import ColumnTransformer\n",
    "\n",
    "def feature_engineering(df):\n",
    "    # Aggregate features\n",
    "    df['Total_Transaction_Amount'] = df.groupby('CustomerId')['Amount'].transform('sum')\n",
    "    df['Average_Transaction_Amount'] = df.groupby('CustomerId')['Amount'].transform('mean')\n",
    "    df['Transaction_Count'] = df.groupby('CustomerId')['TransactionId'].transform('count')\n",
    "    df['Transaction_Std_Dev'] = df.groupby('CustomerId')['Amount'].transform('std')\n",
    "\n",
    "    # Extract features\n",
    "    df['Transaction_Hour'] = pd.to_datetime(df['TransactionStartTime']).dt.hour\n",
    "    df['Transaction_Day'] = pd.to_datetime(df['TransactionStartTime']).dt.day\n",
    "    df['Transaction_Month'] = pd.to_datetime(df['TransactionStartTime']).dt.month\n",
    "    df['Transaction_Year'] = pd.to_datetime(df['TransactionStartTime']).dt.year\n",
    "\n",
    "    # Encode categorical variables\n",
    "    categorical_features = ['ProductCategory', 'ChannelId']\n",
    "    numerical_features = df.select_dtypes(include=['float64', 'int64']).columns.tolist()\n",
    "\n",
    "    # Create preprocessing pipeline\n",
    "    preprocessor = ColumnTransformer(\n",
    "        transformers=[\n",
    "            ('num', StandardScaler(), numerical_features),\n",
    "            ('cat', OneHotEncoder(), categorical_features)\n",
    "        ]\n",
    "    )\n",
    "\n",
    "    df_transformed = preprocessor.fit_transform(df)\n",
    "    return pd.DataFrame(df_transformed)\n",
    "\n",
    "if __name__ == \"__main__\":\n",
    "    df = pd.read_csv('../data/raw/data.csv')\n",
    "    processed_df = feature_engineering(df)\n",
    "    processed_df.to_csv('../data/processed/processed_data.csv', index=False)"
   ]
  }
 ],
 "metadata": {
  "kernelspec": {
   "display_name": "venv",
   "language": "python",
   "name": "python3"
  },
  "language_info": {
   "codemirror_mode": {
    "name": "ipython",
    "version": 3
   },
   "file_extension": ".py",
   "mimetype": "text/x-python",
   "name": "python",
   "nbconvert_exporter": "python",
   "pygments_lexer": "ipython3",
   "version": "3.11.2"
  }
 },
 "nbformat": 4,
 "nbformat_minor": 5
}
